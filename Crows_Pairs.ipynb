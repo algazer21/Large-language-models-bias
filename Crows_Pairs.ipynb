{
  "nbformat": 4,
  "nbformat_minor": 0,
  "metadata": {
    "colab": {
      "provenance": [],
      "gpuType": "T4",
      "collapsed_sections": [
        "xgYBc5Q23YNn"
      ]
    },
    "kernelspec": {
      "name": "python3",
      "display_name": "Python 3"
    },
    "language_info": {
      "name": "python"
    },
    "accelerator": "GPU"
  },
  "cells": [
    {
      "cell_type": "markdown",
      "source": [
        "## Métrica"
      ],
      "metadata": {
        "id": "2njYIKEC3TEO"
      }
    },
    {
      "cell_type": "code",
      "execution_count": null,
      "metadata": {
        "colab": {
          "base_uri": "https://localhost:8080/"
        },
        "id": "_KcnAwrMdNjB",
        "outputId": "dedf1af6-aebe-4669-f9e9-68e1f1dba6a4"
      },
      "outputs": [
        {
          "output_type": "stream",
          "name": "stdout",
          "text": [
            "/content/drive/MyDrive/crows-pairs\n",
            "alpaca_eval   dialogptL_eval\t  distilroberta.vocab  gpt2m_eval  OPT.vocab\t     robertax_eval\n",
            "alpaca.vocab  dialogptM_eval\t  gpt2_eval\t       gpt2.vocab  README.md\t     robertax.vocab\n",
            "bert_eval     dialogptS_eval\t  gpt2-large.vocab     metric.py   requirements.txt\n",
            "bert.vocab    dialogpt.vocab\t  gpt2l_eval\t       mturk\t   roberta_eval\n",
            "data\t      distilroberta_eval  gpt2-medium.vocab    OPT_eval    roberta.vocab\n"
          ]
        }
      ],
      "source": [
        "#!git clone https://github.com/nyu-mll/crows-pairs.git\n",
        "%cd drive/MyDrive/crows-pairs\n",
        "!dir"
      ]
    },
    {
      "cell_type": "code",
      "source": [
        "!pip install transformers\n",
        "\"\"\"\n",
        "!pip install -q loralib sentencepiece\n",
        "!pip uninstall transformers\n",
        "!pip install -q git+https://github.com/zphang/transformers@c3dc391\n",
        "!pip -q install git+https://github.com/huggingface/peft.git\n",
        "!pip -q install bitsandbytes\n",
        "\"\"\""
      ],
      "metadata": {
        "id": "rVMY_6_elD4Q"
      },
      "execution_count": null,
      "outputs": []
    },
    {
      "cell_type": "code",
      "source": [
        "!python metric.py --input_file 'data/crows_pairs_anonymized.csv' --lm_model \"dialogpt\" --output_file \"dialogptS_eval\""
      ],
      "metadata": {
        "colab": {
          "base_uri": "https://localhost:8080/"
        },
        "id": "48qY9LJfd69k",
        "outputId": "472e2b44-da73-4585-d677-21206b5214df"
      },
      "execution_count": null,
      "outputs": [
        {
          "output_type": "stream",
          "name": "stdout",
          "text": [
            "Evaluating:\n",
            "Input: data/crows_pairs_anonymized.csv\n",
            "Model: dialogpt\n",
            "====================================================================================================\n",
            "Downloading (…)okenizer_config.json: 100% 26.0/26.0 [00:00<00:00, 132kB/s]\n",
            "Downloading (…)lve/main/config.json: 100% 641/641 [00:00<00:00, 3.21MB/s]\n",
            "Downloading (…)olve/main/vocab.json: 100% 1.04M/1.04M [00:00<00:00, 3.17MB/s]\n",
            "Downloading (…)olve/main/merges.txt: 100% 456k/456k [00:00<00:00, 1.85MB/s]\n",
            "Downloading model.safetensors: 100% 351M/351M [00:02<00:00, 158MB/s]\n",
            "Downloading (…)neration_config.json: 100% 124/124 [00:00<00:00, 637kB/s]\n",
            "  0% 0/1508 [00:00<?, ?it/s]/usr/local/lib/python3.10/dist-packages/torch/__init__.py:614: UserWarning: torch.set_default_tensor_type() is deprecated as of PyTorch 2.1, please use torch.set_default_dtype() and torch.set_default_device() as alternatives. (Triggered internally at ../torch/csrc/tensor/python_tensor.cpp:451.)\n",
            "  _C._set_default_tensor_type(t)\n",
            "100% 1508/1508 [01:50<00:00, 13.66it/s]\n",
            "====================================================================================================\n",
            "Total examples: 1508\n",
            "Metric score: 52.92\n",
            "Stereotype score: 54.24\n",
            "Anti-stereotype score: 49.31\n",
            "Num. neutral: 17 1.13\n",
            "====================================================================================================\n",
            "\n"
          ]
        }
      ]
    },
    {
      "cell_type": "markdown",
      "source": [
        "## Evaluación"
      ],
      "metadata": {
        "id": "xgYBc5Q23YNn"
      }
    },
    {
      "cell_type": "code",
      "source": [
        "import pandas as pd\n",
        "def eval_ind(score):\n",
        "  ster = score[score.stereo_antistereo == \"stereo\"]\n",
        "  antster = score[score.stereo_antistereo == \"antistereo\"]\n",
        "  neutral = score[score.sent_less_score == score.sent_more_score]\n",
        "  print(\"Metric:  \",round(len(score.score[score.score == 1])*100/len(score),2),\"\\nStereo:  \",\n",
        "      round(len(ster.score[ster.score == 1])*100/(len(ster)-len(neutral)),2),\"\\nAntist:  \",\n",
        "      round(len(antster.score[antster.score == 1])*100/len(antster),2),\"\\nNeutrl:  \",\n",
        "      len(neutral),round(len(neutral)*100/len(score),2))\n",
        "\n",
        "def eval(score):\n",
        "  print(\"GENERAL:\")\n",
        "  eval_ind(score)\n",
        "  for group in list(set(score.bias_type)):\n",
        "    scr = score[score.bias_type == group]\n",
        "    print(\"\\n\"+group.upper()+\"(\"+ str(len(scr)) +\")\"+\":\")\n",
        "    eval_ind(scr)"
      ],
      "metadata": {
        "id": "slGDV0VvGy0X"
      },
      "execution_count": null,
      "outputs": []
    },
    {
      "cell_type": "markdown",
      "source": [
        "### BERT"
      ],
      "metadata": {
        "id": "B6hMoU_UIAxk"
      }
    },
    {
      "cell_type": "code",
      "source": [
        "eval(pd.read_csv(\"bert_eval\"))"
      ],
      "metadata": {
        "colab": {
          "base_uri": "https://localhost:8080/"
        },
        "id": "lGvXyDhlGIJU",
        "outputId": "ea2fbe46-dcf3-4906-db5e-b21eb2d341fa"
      },
      "execution_count": null,
      "outputs": [
        {
          "output_type": "stream",
          "name": "stdout",
          "text": [
            "GENERAL:\n",
            "Metric:   60.48 \n",
            "Stereo:   61.09 \n",
            "Antist:   56.88 \n",
            "Neutrl:   0 0.0\n",
            "\n",
            "DISABILITY(60):\n",
            "Metric:   61.67 \n",
            "Stereo:   63.16 \n",
            "Antist:   33.33 \n",
            "Neutrl:   0 0.0\n",
            "\n",
            "GENDER(262):\n",
            "Metric:   58.02 \n",
            "Stereo:   55.35 \n",
            "Antist:   62.14 \n",
            "Neutrl:   0 0.0\n",
            "\n",
            "RELIGION(105):\n",
            "Metric:   71.43 \n",
            "Stereo:   72.73 \n",
            "Antist:   50.0 \n",
            "Neutrl:   0 0.0\n",
            "\n",
            "SOCIOECONOMIC(172):\n",
            "Metric:   59.88 \n",
            "Stereo:   61.15 \n",
            "Antist:   46.67 \n",
            "Neutrl:   0 0.0\n",
            "\n",
            "PHYSICAL-APPEARANCE(63):\n",
            "Metric:   63.49 \n",
            "Stereo:   61.54 \n",
            "Antist:   72.73 \n",
            "Neutrl:   0 0.0\n",
            "\n",
            "SEXUAL-ORIENTATION(84):\n",
            "Metric:   67.86 \n",
            "Stereo:   69.44 \n",
            "Antist:   58.33 \n",
            "Neutrl:   0 0.0\n",
            "\n",
            "RACE-COLOR(516):\n",
            "Metric:   58.14 \n",
            "Stereo:   58.14 \n",
            "Antist:   58.14 \n",
            "Neutrl:   0 0.0\n",
            "\n",
            "AGE(87):\n",
            "Metric:   55.17 \n",
            "Stereo:   60.27 \n",
            "Antist:   28.57 \n",
            "Neutrl:   0 0.0\n",
            "\n",
            "NATIONALITY(159):\n",
            "Metric:   62.89 \n",
            "Stereo:   64.19 \n",
            "Antist:   45.45 \n",
            "Neutrl:   0 0.0\n"
          ]
        }
      ]
    },
    {
      "cell_type": "markdown",
      "source": [
        "### Roberta"
      ],
      "metadata": {
        "id": "ypnpDindH41j"
      }
    },
    {
      "cell_type": "code",
      "source": [
        "eval(pd.read_csv(\"robertax_eval\"))"
      ],
      "metadata": {
        "id": "UsbMLejDNVLQ",
        "colab": {
          "base_uri": "https://localhost:8080/"
        },
        "outputId": "fc2ee169-4b50-4b9a-ada6-ccd61515a75c"
      },
      "execution_count": null,
      "outputs": [
        {
          "output_type": "stream",
          "name": "stdout",
          "text": [
            "GENERAL:\n",
            "Metric:   65.52 \n",
            "Stereo:   66.82 \n",
            "Antist:   57.8 \n",
            "Neutrl:   0 0.0\n",
            "\n",
            "SOCIOECONOMIC(172):\n",
            "Metric:   66.86 \n",
            "Stereo:   65.61 \n",
            "Antist:   80.0 \n",
            "Neutrl:   0 0.0\n",
            "\n",
            "PHYSICAL-APPEARANCE(63):\n",
            "Metric:   73.02 \n",
            "Stereo:   80.77 \n",
            "Antist:   36.36 \n",
            "Neutrl:   0 0.0\n",
            "\n",
            "RELIGION(105):\n",
            "Metric:   74.29 \n",
            "Stereo:   74.75 \n",
            "Antist:   66.67 \n",
            "Neutrl:   0 0.0\n",
            "\n",
            "AGE(87):\n",
            "Metric:   71.26 \n",
            "Stereo:   76.71 \n",
            "Antist:   42.86 \n",
            "Neutrl:   0 0.0\n",
            "\n",
            "NATIONALITY(159):\n",
            "Metric:   66.67 \n",
            "Stereo:   66.89 \n",
            "Antist:   63.64 \n",
            "Neutrl:   0 0.0\n",
            "\n",
            "DISABILITY(60):\n",
            "Metric:   70.0 \n",
            "Stereo:   73.68 \n",
            "Antist:   0.0 \n",
            "Neutrl:   0 0.0\n",
            "\n",
            "RACE-COLOR(516):\n",
            "Metric:   64.34 \n",
            "Stereo:   64.9 \n",
            "Antist:   58.14 \n",
            "Neutrl:   0 0.0\n",
            "\n",
            "GENDER(262):\n",
            "Metric:   58.4 \n",
            "Stereo:   59.12 \n",
            "Antist:   57.28 \n",
            "Neutrl:   0 0.0\n",
            "\n",
            "SEXUAL-ORIENTATION(84):\n",
            "Metric:   64.29 \n",
            "Stereo:   62.5 \n",
            "Antist:   75.0 \n",
            "Neutrl:   0 0.0\n"
          ]
        }
      ]
    },
    {
      "cell_type": "code",
      "source": [
        "eval(pd.read_csv(\"roberta_eval\"))"
      ],
      "metadata": {
        "colab": {
          "base_uri": "https://localhost:8080/"
        },
        "id": "FnQHXYZdNFg6",
        "outputId": "4fb0620a-330a-408d-b524-ebfdf4c2a852"
      },
      "execution_count": null,
      "outputs": [
        {
          "output_type": "stream",
          "name": "stdout",
          "text": [
            "GENERAL:\n",
            "Metric:   59.35 \n",
            "Stereo:   61.24 \n",
            "Antist:   48.17 \n",
            "Neutrl:   0 0.0\n",
            "\n",
            "SOCIOECONOMIC(172):\n",
            "Metric:   61.05 \n",
            "Stereo:   61.15 \n",
            "Antist:   60.0 \n",
            "Neutrl:   0 0.0\n",
            "\n",
            "PHYSICAL-APPEARANCE(63):\n",
            "Metric:   60.32 \n",
            "Stereo:   57.69 \n",
            "Antist:   72.73 \n",
            "Neutrl:   0 0.0\n",
            "\n",
            "RELIGION(105):\n",
            "Metric:   74.29 \n",
            "Stereo:   73.74 \n",
            "Antist:   83.33 \n",
            "Neutrl:   0 0.0\n",
            "\n",
            "AGE(87):\n",
            "Metric:   66.67 \n",
            "Stereo:   69.86 \n",
            "Antist:   50.0 \n",
            "Neutrl:   0 0.0\n",
            "\n",
            "NATIONALITY(159):\n",
            "Metric:   64.15 \n",
            "Stereo:   65.54 \n",
            "Antist:   45.45 \n",
            "Neutrl:   0 0.0\n",
            "\n",
            "DISABILITY(60):\n",
            "Metric:   66.67 \n",
            "Stereo:   68.42 \n",
            "Antist:   33.33 \n",
            "Neutrl:   0 0.0\n",
            "\n",
            "RACE-COLOR(516):\n",
            "Metric:   54.07 \n",
            "Stereo:   54.55 \n",
            "Antist:   48.84 \n",
            "Neutrl:   0 0.0\n",
            "\n",
            "GENDER(262):\n",
            "Metric:   54.96 \n",
            "Stereo:   62.89 \n",
            "Antist:   42.72 \n",
            "Neutrl:   0 0.0\n",
            "\n",
            "SEXUAL-ORIENTATION(84):\n",
            "Metric:   60.71 \n",
            "Stereo:   63.89 \n",
            "Antist:   41.67 \n",
            "Neutrl:   0 0.0\n"
          ]
        }
      ]
    },
    {
      "cell_type": "markdown",
      "source": [
        "### DistilRoberta"
      ],
      "metadata": {
        "id": "nCBwXGeXH1fp"
      }
    },
    {
      "cell_type": "code",
      "source": [
        "eval(pd.read_csv(\"distilroberta_eval\"))"
      ],
      "metadata": {
        "colab": {
          "base_uri": "https://localhost:8080/"
        },
        "id": "HExixu0XNGsW",
        "outputId": "7cd5b7dc-c61b-48fa-a9b6-08778235de29"
      },
      "execution_count": null,
      "outputs": [
        {
          "output_type": "stream",
          "name": "stdout",
          "text": [
            "GENERAL:\n",
            "Metric:   59.35 \n",
            "Stereo:   61.24 \n",
            "Antist:   48.17 \n",
            "Neutrl:   0 0.0\n",
            "\n",
            "SOCIOECONOMIC(172):\n",
            "Metric:   61.63 \n",
            "Stereo:   63.06 \n",
            "Antist:   46.67 \n",
            "Neutrl:   0 0.0\n",
            "\n",
            "PHYSICAL-APPEARANCE(63):\n",
            "Metric:   61.9 \n",
            "Stereo:   61.54 \n",
            "Antist:   63.64 \n",
            "Neutrl:   0 0.0\n",
            "\n",
            "RELIGION(105):\n",
            "Metric:   71.43 \n",
            "Stereo:   70.71 \n",
            "Antist:   83.33 \n",
            "Neutrl:   0 0.0\n",
            "\n",
            "AGE(87):\n",
            "Metric:   56.32 \n",
            "Stereo:   54.79 \n",
            "Antist:   64.29 \n",
            "Neutrl:   0 0.0\n",
            "\n",
            "NATIONALITY(159):\n",
            "Metric:   62.26 \n",
            "Stereo:   63.51 \n",
            "Antist:   45.45 \n",
            "Neutrl:   0 0.0\n",
            "\n",
            "DISABILITY(60):\n",
            "Metric:   68.33 \n",
            "Stereo:   68.42 \n",
            "Antist:   66.67 \n",
            "Neutrl:   0 0.0\n",
            "\n",
            "RACE-COLOR(516):\n",
            "Metric:   56.59 \n",
            "Stereo:   58.14 \n",
            "Antist:   39.53 \n",
            "Neutrl:   0 0.0\n",
            "\n",
            "GENDER(262):\n",
            "Metric:   53.05 \n",
            "Stereo:   56.6 \n",
            "Antist:   47.57 \n",
            "Neutrl:   0 0.0\n",
            "\n",
            "SEXUAL-ORIENTATION(84):\n",
            "Metric:   65.48 \n",
            "Stereo:   70.83 \n",
            "Antist:   33.33 \n",
            "Neutrl:   0 0.0\n"
          ]
        }
      ]
    },
    {
      "cell_type": "markdown",
      "source": [
        "### GPT-2"
      ],
      "metadata": {
        "id": "uKHgW8PLHxvU"
      }
    },
    {
      "cell_type": "code",
      "source": [
        "eval(pd.read_csv(\"gpt2_eval\"))"
      ],
      "metadata": {
        "id": "f0NPTDdjRunD",
        "colab": {
          "base_uri": "https://localhost:8080/"
        },
        "outputId": "4999d83d-dff0-424d-f23c-9718eab80afe"
      },
      "execution_count": null,
      "outputs": [
        {
          "output_type": "stream",
          "name": "stdout",
          "text": [
            "GENERAL:\n",
            "Metric:   58.42 \n",
            "Stereo:   58.53 \n",
            "Antist:   59.63 \n",
            "Neutrl:   7 0.46\n",
            "\n",
            "SOCIOECONOMIC(172):\n",
            "Metric:   63.95 \n",
            "Stereo:   64.97 \n",
            "Antist:   53.33 \n",
            "Neutrl:   0 0.0\n",
            "\n",
            "PHYSICAL-APPEARANCE(63):\n",
            "Metric:   57.14 \n",
            "Stereo:   59.62 \n",
            "Antist:   45.45 \n",
            "Neutrl:   0 0.0\n",
            "\n",
            "RELIGION(105):\n",
            "Metric:   61.9 \n",
            "Stereo:   62.24 \n",
            "Antist:   66.67 \n",
            "Neutrl:   1 0.95\n",
            "\n",
            "AGE(87):\n",
            "Metric:   51.72 \n",
            "Stereo:   49.32 \n",
            "Antist:   64.29 \n",
            "Neutrl:   0 0.0\n",
            "\n",
            "NATIONALITY(159):\n",
            "Metric:   45.91 \n",
            "Stereo:   45.95 \n",
            "Antist:   45.45 \n",
            "Neutrl:   0 0.0\n",
            "\n",
            "DISABILITY(60):\n",
            "Metric:   56.67 \n",
            "Stereo:   57.14 \n",
            "Antist:   66.67 \n",
            "Neutrl:   1 1.67\n",
            "\n",
            "RACE-COLOR(516):\n",
            "Metric:   59.5 \n",
            "Stereo:   59.45 \n",
            "Antist:   62.79 \n",
            "Neutrl:   2 0.39\n",
            "\n",
            "GENDER(262):\n",
            "Metric:   56.11 \n",
            "Stereo:   53.85 \n",
            "Antist:   61.17 \n",
            "Neutrl:   3 1.15\n",
            "\n",
            "SEXUAL-ORIENTATION(84):\n",
            "Metric:   76.19 \n",
            "Stereo:   79.17 \n",
            "Antist:   58.33 \n",
            "Neutrl:   0 0.0\n"
          ]
        }
      ]
    },
    {
      "cell_type": "code",
      "source": [
        "eval(pd.read_csv(\"gpt2m_eval\"))"
      ],
      "metadata": {
        "colab": {
          "base_uri": "https://localhost:8080/"
        },
        "id": "V8IKW3w-3BMW",
        "outputId": "2b6f4c9d-d609-4e78-aac1-a80bb66dac22"
      },
      "execution_count": null,
      "outputs": [
        {
          "output_type": "stream",
          "name": "stdout",
          "text": [
            "GENERAL:\n",
            "Metric:   61.74 \n",
            "Stereo:   63.3 \n",
            "Antist:   53.67 \n",
            "Neutrl:   4 0.27\n",
            "\n",
            "SOCIOECONOMIC(172):\n",
            "Metric:   68.02 \n",
            "Stereo:   70.51 \n",
            "Antist:   46.67 \n",
            "Neutrl:   1 0.58\n",
            "\n",
            "PHYSICAL-APPEARANCE(63):\n",
            "Metric:   55.56 \n",
            "Stereo:   55.77 \n",
            "Antist:   54.55 \n",
            "Neutrl:   0 0.0\n",
            "\n",
            "RELIGION(105):\n",
            "Metric:   72.38 \n",
            "Stereo:   72.73 \n",
            "Antist:   66.67 \n",
            "Neutrl:   0 0.0\n",
            "\n",
            "AGE(87):\n",
            "Metric:   56.32 \n",
            "Stereo:   56.94 \n",
            "Antist:   57.14 \n",
            "Neutrl:   1 1.15\n",
            "\n",
            "NATIONALITY(159):\n",
            "Metric:   50.31 \n",
            "Stereo:   48.65 \n",
            "Antist:   72.73 \n",
            "Neutrl:   0 0.0\n",
            "\n",
            "DISABILITY(60):\n",
            "Metric:   65.0 \n",
            "Stereo:   64.91 \n",
            "Antist:   66.67 \n",
            "Neutrl:   0 0.0\n",
            "\n",
            "RACE-COLOR(516):\n",
            "Metric:   62.02 \n",
            "Stereo:   64.12 \n",
            "Antist:   41.86 \n",
            "Neutrl:   2 0.39\n",
            "\n",
            "GENDER(262):\n",
            "Metric:   59.16 \n",
            "Stereo:   61.01 \n",
            "Antist:   56.31 \n",
            "Neutrl:   0 0.0\n",
            "\n",
            "SEXUAL-ORIENTATION(84):\n",
            "Metric:   71.43 \n",
            "Stereo:   75.0 \n",
            "Antist:   50.0 \n",
            "Neutrl:   0 0.0\n"
          ]
        }
      ]
    },
    {
      "cell_type": "code",
      "source": [
        "eval(pd.read_csv(\"gpt2l_eval\"))"
      ],
      "metadata": {
        "colab": {
          "base_uri": "https://localhost:8080/"
        },
        "id": "vloaj0Hy3E_g",
        "outputId": "a75e56a3-45ff-41de-bc9d-d1774d148f40"
      },
      "execution_count": null,
      "outputs": [
        {
          "output_type": "stream",
          "name": "stdout",
          "text": [
            "GENERAL:\n",
            "Metric:   61.14 \n",
            "Stereo:   63.14 \n",
            "Antist:   50.46 \n",
            "Neutrl:   4 0.27\n",
            "\n",
            "GENDER(262):\n",
            "Metric:   58.4 \n",
            "Stereo:   61.15 \n",
            "Antist:   55.34 \n",
            "Neutrl:   2 0.76\n",
            "\n",
            "NATIONALITY(159):\n",
            "Metric:   47.8 \n",
            "Stereo:   47.97 \n",
            "Antist:   45.45 \n",
            "Neutrl:   0 0.0\n",
            "\n",
            "AGE(87):\n",
            "Metric:   54.02 \n",
            "Stereo:   54.79 \n",
            "Antist:   50.0 \n",
            "Neutrl:   0 0.0\n",
            "\n",
            "RELIGION(105):\n",
            "Metric:   70.48 \n",
            "Stereo:   72.45 \n",
            "Antist:   50.0 \n",
            "Neutrl:   1 0.95\n",
            "\n",
            "SOCIOECONOMIC(172):\n",
            "Metric:   66.86 \n",
            "Stereo:   68.79 \n",
            "Antist:   46.67 \n",
            "Neutrl:   0 0.0\n",
            "\n",
            "DISABILITY(60):\n",
            "Metric:   66.67 \n",
            "Stereo:   69.64 \n",
            "Antist:   33.33 \n",
            "Neutrl:   1 1.67\n",
            "\n",
            "SEXUAL-ORIENTATION(84):\n",
            "Metric:   70.24 \n",
            "Stereo:   73.61 \n",
            "Antist:   50.0 \n",
            "Neutrl:   0 0.0\n",
            "\n",
            "RACE-COLOR(516):\n",
            "Metric:   62.21 \n",
            "Stereo:   63.85 \n",
            "Antist:   44.19 \n",
            "Neutrl:   0 0.0\n",
            "\n",
            "PHYSICAL-APPEARANCE(63):\n",
            "Metric:   58.73 \n",
            "Stereo:   61.54 \n",
            "Antist:   45.45 \n",
            "Neutrl:   0 0.0\n"
          ]
        }
      ]
    },
    {
      "cell_type": "markdown",
      "source": [
        "### OPT"
      ],
      "metadata": {
        "id": "tJp3BDbGHude"
      }
    },
    {
      "cell_type": "code",
      "source": [
        "eval(pd.read_csv(\"OPT_eval\"))"
      ],
      "metadata": {
        "colab": {
          "base_uri": "https://localhost:8080/"
        },
        "id": "uATJ-31B3H9e",
        "outputId": "a7da51fa-079c-4ba4-ae23-9778a7efc001"
      },
      "execution_count": null,
      "outputs": [
        {
          "output_type": "stream",
          "name": "stdout",
          "text": [
            "GENERAL:\n",
            "Metric:   59.55 \n",
            "Stereo:   60.72 \n",
            "Antist:   54.59 \n",
            "Neutrl:   7 0.46\n",
            "\n",
            "NATIONALITY(159):\n",
            "Metric:   47.17 \n",
            "Stereo:   45.58 \n",
            "Antist:   72.73 \n",
            "Neutrl:   1 0.63\n",
            "\n",
            "SOCIOECONOMIC(172):\n",
            "Metric:   54.65 \n",
            "Stereo:   56.05 \n",
            "Antist:   40.0 \n",
            "Neutrl:   0 0.0\n",
            "\n",
            "PHYSICAL-APPEARANCE(63):\n",
            "Metric:   63.49 \n",
            "Stereo:   66.67 \n",
            "Antist:   54.55 \n",
            "Neutrl:   1 1.59\n",
            "\n",
            "DISABILITY(60):\n",
            "Metric:   68.33 \n",
            "Stereo:   70.18 \n",
            "Antist:   33.33 \n",
            "Neutrl:   0 0.0\n",
            "\n",
            "RELIGION(105):\n",
            "Metric:   58.1 \n",
            "Stereo:   57.58 \n",
            "Antist:   66.67 \n",
            "Neutrl:   0 0.0\n",
            "\n",
            "GENDER(262):\n",
            "Metric:   61.07 \n",
            "Stereo:   64.15 \n",
            "Antist:   56.31 \n",
            "Neutrl:   0 0.0\n",
            "\n",
            "SEXUAL-ORIENTATION(84):\n",
            "Metric:   65.48 \n",
            "Stereo:   68.06 \n",
            "Antist:   50.0 \n",
            "Neutrl:   0 0.0\n",
            "\n",
            "RACE-COLOR(516):\n",
            "Metric:   62.6 \n",
            "Stereo:   64.32 \n",
            "Antist:   51.16 \n",
            "Neutrl:   5 0.97\n",
            "\n",
            "AGE(87):\n",
            "Metric:   56.32 \n",
            "Stereo:   56.16 \n",
            "Antist:   57.14 \n",
            "Neutrl:   0 0.0\n"
          ]
        }
      ]
    },
    {
      "cell_type": "markdown",
      "source": [
        "### Alpaca"
      ],
      "metadata": {
        "id": "w0MXZc1_Hq4w"
      }
    },
    {
      "cell_type": "code",
      "source": [
        "eval(pd.read_csv(\"alpaca_eval\"))"
      ],
      "metadata": {
        "id": "UmHZeTd53J8g",
        "colab": {
          "base_uri": "https://localhost:8080/"
        },
        "outputId": "3c8a7695-3ddb-4452-af6a-0cb4eedb55b4"
      },
      "execution_count": null,
      "outputs": [
        {
          "output_type": "stream",
          "name": "stdout",
          "text": [
            "GENERAL:\n",
            "Metric:   66.64 \n",
            "Stereo:   71.07 \n",
            "Antist:   44.04 \n",
            "Neutrl:   11 0.73\n",
            "\n",
            "RACE-COLOR(516):\n",
            "Metric:   69.19 \n",
            "Stereo:   73.35 \n",
            "Antist:   30.23 \n",
            "Neutrl:   4 0.78\n",
            "\n",
            "GENDER(262):\n",
            "Metric:   56.87 \n",
            "Stereo:   65.38 \n",
            "Antist:   45.63 \n",
            "Neutrl:   3 1.15\n",
            "\n",
            "NATIONALITY(159):\n",
            "Metric:   56.6 \n",
            "Stereo:   59.86 \n",
            "Antist:   18.18 \n",
            "Neutrl:   1 0.63\n",
            "\n",
            "SEXUAL-ORIENTATION(84):\n",
            "Metric:   75.0 \n",
            "Stereo:   77.78 \n",
            "Antist:   58.33 \n",
            "Neutrl:   0 0.0\n",
            "\n",
            "AGE(87):\n",
            "Metric:   70.11 \n",
            "Stereo:   72.6 \n",
            "Antist:   57.14 \n",
            "Neutrl:   0 0.0\n",
            "\n",
            "PHYSICAL-APPEARANCE(63):\n",
            "Metric:   74.6 \n",
            "Stereo:   76.92 \n",
            "Antist:   63.64 \n",
            "Neutrl:   0 0.0\n",
            "\n",
            "RELIGION(105):\n",
            "Metric:   74.29 \n",
            "Stereo:   76.53 \n",
            "Antist:   50.0 \n",
            "Neutrl:   1 0.95\n",
            "\n",
            "SOCIOECONOMIC(172):\n",
            "Metric:   64.53 \n",
            "Stereo:   65.81 \n",
            "Antist:   60.0 \n",
            "Neutrl:   2 1.16\n",
            "\n",
            "DISABILITY(60):\n",
            "Metric:   81.67 \n",
            "Stereo:   85.96 \n",
            "Antist:   0.0 \n",
            "Neutrl:   0 0.0\n"
          ]
        }
      ]
    },
    {
      "cell_type": "markdown",
      "source": [
        "### DialoGPT"
      ],
      "metadata": {
        "id": "sCefAy0MHhRu"
      }
    },
    {
      "cell_type": "code",
      "source": [
        "eval(pd.read_csv(\"dialogptS_eval\"))"
      ],
      "metadata": {
        "colab": {
          "base_uri": "https://localhost:8080/"
        },
        "id": "WdO2EkqYHfNV",
        "outputId": "12d5c536-5cd8-4b1c-f554-e9f086b87b41"
      },
      "execution_count": null,
      "outputs": [
        {
          "output_type": "stream",
          "name": "stdout",
          "text": [
            "GENERAL:\n",
            "Metric:   52.92 \n",
            "Stereo:   54.28 \n",
            "Antist:   49.08 \n",
            "Neutrl:   17 1.13\n",
            "\n",
            "PHYSICAL-APPEARANCE(63):\n",
            "Metric:   66.67 \n",
            "Stereo:   76.47 \n",
            "Antist:   27.27 \n",
            "Neutrl:   1 1.59\n",
            "\n",
            "DISABILITY(60):\n",
            "Metric:   43.33 \n",
            "Stereo:   42.11 \n",
            "Antist:   66.67 \n",
            "Neutrl:   0 0.0\n",
            "\n",
            "SOCIOECONOMIC(172):\n",
            "Metric:   58.72 \n",
            "Stereo:   58.97 \n",
            "Antist:   60.0 \n",
            "Neutrl:   1 0.58\n",
            "\n",
            "SEXUAL-ORIENTATION(84):\n",
            "Metric:   36.9 \n",
            "Stereo:   34.29 \n",
            "Antist:   58.33 \n",
            "Neutrl:   2 2.38\n",
            "\n",
            "RELIGION(105):\n",
            "Metric:   62.86 \n",
            "Stereo:   64.29 \n",
            "Antist:   50.0 \n",
            "Neutrl:   1 0.95\n",
            "\n",
            "AGE(87):\n",
            "Metric:   65.52 \n",
            "Stereo:   73.61 \n",
            "Antist:   28.57 \n",
            "Neutrl:   1 1.15\n",
            "\n",
            "NATIONALITY(159):\n",
            "Metric:   42.14 \n",
            "Stereo:   42.07 \n",
            "Antist:   54.55 \n",
            "Neutrl:   3 1.89\n",
            "\n",
            "GENDER(262):\n",
            "Metric:   47.71 \n",
            "Stereo:   42.68 \n",
            "Antist:   56.31 \n",
            "Neutrl:   2 0.76\n",
            "\n",
            "RACE-COLOR(516):\n",
            "Metric:   54.84 \n",
            "Stereo:   57.39 \n",
            "Antist:   34.88 \n",
            "Neutrl:   6 1.16\n"
          ]
        }
      ]
    },
    {
      "cell_type": "code",
      "source": [
        "eval(pd.read_csv(\"dialogptM_eval\"))"
      ],
      "metadata": {
        "colab": {
          "base_uri": "https://localhost:8080/"
        },
        "id": "Sk4fKBFbGg_P",
        "outputId": "2cb40582-3b87-4a33-ea4e-61a8d37c3c57"
      },
      "execution_count": null,
      "outputs": [
        {
          "output_type": "stream",
          "name": "stdout",
          "text": [
            "GENERAL:\n",
            "Metric:   54.51 \n",
            "Stereo:   55.12 \n",
            "Antist:   53.67 \n",
            "Neutrl:   11 0.73\n",
            "\n",
            "PHYSICAL-APPEARANCE(63):\n",
            "Metric:   66.67 \n",
            "Stereo:   72.55 \n",
            "Antist:   45.45 \n",
            "Neutrl:   1 1.59\n",
            "\n",
            "DISABILITY(60):\n",
            "Metric:   55.0 \n",
            "Stereo:   54.39 \n",
            "Antist:   66.67 \n",
            "Neutrl:   0 0.0\n",
            "\n",
            "SOCIOECONOMIC(172):\n",
            "Metric:   63.37 \n",
            "Stereo:   64.97 \n",
            "Antist:   46.67 \n",
            "Neutrl:   0 0.0\n",
            "\n",
            "SEXUAL-ORIENTATION(84):\n",
            "Metric:   35.71 \n",
            "Stereo:   33.33 \n",
            "Antist:   50.0 \n",
            "Neutrl:   0 0.0\n",
            "\n",
            "RELIGION(105):\n",
            "Metric:   62.86 \n",
            "Stereo:   63.64 \n",
            "Antist:   50.0 \n",
            "Neutrl:   0 0.0\n",
            "\n",
            "AGE(87):\n",
            "Metric:   57.47 \n",
            "Stereo:   58.9 \n",
            "Antist:   50.0 \n",
            "Neutrl:   0 0.0\n",
            "\n",
            "NATIONALITY(159):\n",
            "Metric:   40.25 \n",
            "Stereo:   39.04 \n",
            "Antist:   63.64 \n",
            "Neutrl:   2 1.26\n",
            "\n",
            "GENDER(262):\n",
            "Metric:   54.2 \n",
            "Stereo:   49.03 \n",
            "Antist:   64.08 \n",
            "Neutrl:   4 1.53\n",
            "\n",
            "RACE-COLOR(516):\n",
            "Metric:   55.43 \n",
            "Stereo:   58.0 \n",
            "Antist:   32.56 \n",
            "Neutrl:   4 0.78\n"
          ]
        }
      ]
    },
    {
      "cell_type": "code",
      "source": [
        "eval(pd.read_csv(\"dialogptL_eval\"))"
      ],
      "metadata": {
        "colab": {
          "base_uri": "https://localhost:8080/"
        },
        "id": "dK0dFH2mcG6H",
        "outputId": "f87271f9-bb23-4800-91d0-aa861adb4b83"
      },
      "execution_count": null,
      "outputs": [
        {
          "output_type": "stream",
          "name": "stdout",
          "text": [
            "GENERAL:\n",
            "Metric:   54.84 \n",
            "Stereo:   56.3 \n",
            "Antist:   49.54 \n",
            "Neutrl:   13 0.86\n",
            "\n",
            "SOCIOECONOMIC(172):\n",
            "Metric:   63.95 \n",
            "Stereo:   66.67 \n",
            "Antist:   40.0 \n",
            "Neutrl:   1 0.58\n",
            "\n",
            "RELIGION(105):\n",
            "Metric:   61.9 \n",
            "Stereo:   66.67 \n",
            "Antist:   16.67 \n",
            "Neutrl:   3 2.86\n",
            "\n",
            "RACE-COLOR(516):\n",
            "Metric:   55.04 \n",
            "Stereo:   57.14 \n",
            "Antist:   37.21 \n",
            "Neutrl:   4 0.78\n",
            "\n",
            "GENDER(262):\n",
            "Metric:   54.58 \n",
            "Stereo:   53.85 \n",
            "Antist:   57.28 \n",
            "Neutrl:   3 1.15\n",
            "\n",
            "DISABILITY(60):\n",
            "Metric:   53.33 \n",
            "Stereo:   52.63 \n",
            "Antist:   66.67 \n",
            "Neutrl:   0 0.0\n",
            "\n",
            "SEXUAL-ORIENTATION(84):\n",
            "Metric:   34.52 \n",
            "Stereo:   30.56 \n",
            "Antist:   58.33 \n",
            "Neutrl:   0 0.0\n",
            "\n",
            "PHYSICAL-APPEARANCE(63):\n",
            "Metric:   68.25 \n",
            "Stereo:   75.0 \n",
            "Antist:   36.36 \n",
            "Neutrl:   0 0.0\n",
            "\n",
            "NATIONALITY(159):\n",
            "Metric:   45.91 \n",
            "Stereo:   44.9 \n",
            "Antist:   63.64 \n",
            "Neutrl:   1 0.63\n",
            "\n",
            "AGE(87):\n",
            "Metric:   55.17 \n",
            "Stereo:   58.33 \n",
            "Antist:   42.86 \n",
            "Neutrl:   1 1.15\n"
          ]
        }
      ]
    },
    {
      "cell_type": "code",
      "source": [],
      "metadata": {
        "id": "tAqke_7pgyVw"
      },
      "execution_count": null,
      "outputs": []
    }
  ]
}